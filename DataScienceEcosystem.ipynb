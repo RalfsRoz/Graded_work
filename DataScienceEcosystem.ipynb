{
 "cells": [
  {
   "cell_type": "markdown",
   "id": "7043338a-733a-46be-aee6-af7a60a28c55",
   "metadata": {},
   "source": [
    "# Data Science Tolls and Ecosystem"
   ]
  },
  {
   "cell_type": "markdown",
   "id": "f0a17bfd-db8e-4726-bacc-8e4494acae62",
   "metadata": {},
   "source": [
    "In this notebook, Data Science Tools and Ecosystem are summarized."
   ]
  },
  {
   "cell_type": "markdown",
   "id": "f4d7faa2-3643-4254-8f5e-e0d31366a89e",
   "metadata": {},
   "source": [
    "**Objectives:**\n",
    "- List popular languages for Data Science\n",
    "- List most commonly used libraries used by Data Scientists\n",
    "- Show some code examples"
   ]
  },
  {
   "cell_type": "markdown",
   "id": "26a77ccf-e240-405f-9b5a-5418fdb89d58",
   "metadata": {},
   "source": [
    "Some of the popular languages that Data Scientists use are:\n",
    "1. Python\n",
    "2. R\n",
    "3. SQL"
   ]
  },
  {
   "cell_type": "markdown",
   "id": "80648be4-852c-44ee-8ec4-a6a889c18de8",
   "metadata": {},
   "source": [
    "Some of the commonly used libraries used by Data Scientists include:\n",
    "1. Pandas\n",
    "2. NumPy\n",
    "3. Keras"
   ]
  },
  {
   "cell_type": "markdown",
   "id": "e8cb795d-0a57-43e5-8162-d32a44c9164e",
   "metadata": {},
   "source": [
    "| Data Science Tools    |\n",
    "|-----------------------|\n",
    "| Jupyter Notebook      |\n",
    "| RStudio               |\n",
    "| VS Code with Python   |"
   ]
  },
  {
   "cell_type": "markdown",
   "id": "a8cc05c6-b325-41a2-b0e3-d3c910d5ca7a",
   "metadata": {},
   "source": [
    "### Below are a few examples of evaluating arithmetic expressions in Python"
   ]
  },
  {
   "cell_type": "markdown",
   "id": "830214ca-f3c1-47e4-9923-3d72317b9258",
   "metadata": {},
   "source": [
    "This a simple arithmetic expression to multiply then add integers"
   ]
  },
  {
   "cell_type": "code",
   "execution_count": 3,
   "id": "c05ba818-eb4b-48cf-9ba9-43f1de25dec0",
   "metadata": {},
   "outputs": [
    {
     "data": {
      "text/plain": [
       "17"
      ]
     },
     "execution_count": 3,
     "metadata": {},
     "output_type": "execute_result"
    }
   ],
   "source": [
    "(3*4)+5"
   ]
  },
  {
   "cell_type": "markdown",
   "id": "da25f3f1-cf5d-448d-99c7-bf6b22c80692",
   "metadata": {},
   "source": [
    " This will convert 200 minutes to hours by diving by 60"
   ]
  },
  {
   "cell_type": "code",
   "execution_count": 4,
   "id": "bbaeb70c-ed78-4a95-bc45-d3d8ab91c611",
   "metadata": {},
   "outputs": [
    {
     "data": {
      "text/plain": [
       "3.3333333333333335"
      ]
     },
     "execution_count": 4,
     "metadata": {},
     "output_type": "execute_result"
    }
   ],
   "source": [
    "200/60"
   ]
  },
  {
   "cell_type": "markdown",
   "id": "8072f33c-af69-4ef6-a86d-f5e26027bd35",
   "metadata": {},
   "source": [
    "## Author\n",
    "Ralfs Rozentals"
   ]
  },
  {
   "cell_type": "code",
   "execution_count": null,
   "id": "de584a46-cd3b-42d1-861f-4c4c2e6feeb4",
   "metadata": {},
   "outputs": [],
   "source": []
  },
  {
   "cell_type": "code",
   "execution_count": null,
   "id": "be33394a-58c3-4814-9e4b-3e1c2806531b",
   "metadata": {},
   "outputs": [],
   "source": []
  }
 ],
 "metadata": {
  "kernelspec": {
   "display_name": "Python 3 (ipykernel)",
   "language": "python",
   "name": "python3"
  },
  "language_info": {
   "codemirror_mode": {
    "name": "ipython",
    "version": 3
   },
   "file_extension": ".py",
   "mimetype": "text/x-python",
   "name": "python",
   "nbconvert_exporter": "python",
   "pygments_lexer": "ipython3",
   "version": "3.11.7"
  }
 },
 "nbformat": 4,
 "nbformat_minor": 5
}
